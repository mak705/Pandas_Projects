{
 "cells": [
  {
   "cell_type": "code",
   "execution_count": 2,
   "metadata": {},
   "outputs": [],
   "source": [
    "import pandas as pd\n",
    "data  = pd.read_csv('C:\\\\Users\\\\makka\\\\Downloads\\\\gamesc2b2088.csv')"
   ]
  },
  {
   "cell_type": "code",
   "execution_count": 3,
   "metadata": {},
   "outputs": [
    {
     "data": {
      "text/html": [
       "<div>\n",
       "<style scoped>\n",
       "    .dataframe tbody tr th:only-of-type {\n",
       "        vertical-align: middle;\n",
       "    }\n",
       "\n",
       "    .dataframe tbody tr th {\n",
       "        vertical-align: top;\n",
       "    }\n",
       "\n",
       "    .dataframe thead th {\n",
       "        text-align: right;\n",
       "    }\n",
       "</style>\n",
       "<table border=\"1\" class=\"dataframe\">\n",
       "  <thead>\n",
       "    <tr style=\"text-align: right;\">\n",
       "      <th></th>\n",
       "      <th>title</th>\n",
       "      <th>platform</th>\n",
       "      <th>score</th>\n",
       "      <th>genre</th>\n",
       "      <th>editors_choice</th>\n",
       "    </tr>\n",
       "  </thead>\n",
       "  <tbody>\n",
       "    <tr>\n",
       "      <th>0</th>\n",
       "      <td>LittleBigPlanet PS Vita</td>\n",
       "      <td>PlayStation Vita</td>\n",
       "      <td>9.0</td>\n",
       "      <td>Platformer</td>\n",
       "      <td>Y</td>\n",
       "    </tr>\n",
       "    <tr>\n",
       "      <th>1</th>\n",
       "      <td>LittleBigPlanet PS Vita -- Marvel Super Hero E...</td>\n",
       "      <td>PlayStation Vita</td>\n",
       "      <td>9.0</td>\n",
       "      <td>Platformer</td>\n",
       "      <td>Y</td>\n",
       "    </tr>\n",
       "    <tr>\n",
       "      <th>2</th>\n",
       "      <td>Splice: Tree of Life</td>\n",
       "      <td>iPad</td>\n",
       "      <td>8.5</td>\n",
       "      <td>Puzzle</td>\n",
       "      <td>N</td>\n",
       "    </tr>\n",
       "    <tr>\n",
       "      <th>3</th>\n",
       "      <td>NHL 13</td>\n",
       "      <td>Xbox 360</td>\n",
       "      <td>8.5</td>\n",
       "      <td>Sports</td>\n",
       "      <td>N</td>\n",
       "    </tr>\n",
       "    <tr>\n",
       "      <th>4</th>\n",
       "      <td>NHL 13</td>\n",
       "      <td>PlayStation 3</td>\n",
       "      <td>8.5</td>\n",
       "      <td>Sports</td>\n",
       "      <td>N</td>\n",
       "    </tr>\n",
       "  </tbody>\n",
       "</table>\n",
       "</div>"
      ],
      "text/plain": [
       "                                               title          platform  score  \\\n",
       "0                            LittleBigPlanet PS Vita  PlayStation Vita    9.0   \n",
       "1  LittleBigPlanet PS Vita -- Marvel Super Hero E...  PlayStation Vita    9.0   \n",
       "2                               Splice: Tree of Life              iPad    8.5   \n",
       "3                                             NHL 13          Xbox 360    8.5   \n",
       "4                                             NHL 13     PlayStation 3    8.5   \n",
       "\n",
       "        genre editors_choice  \n",
       "0  Platformer              Y  \n",
       "1  Platformer              Y  \n",
       "2      Puzzle              N  \n",
       "3      Sports              N  \n",
       "4      Sports              N  "
      ]
     },
     "execution_count": 3,
     "metadata": {},
     "output_type": "execute_result"
    }
   ],
   "source": [
    "data.head()"
   ]
  },
  {
   "cell_type": "code",
   "execution_count": 4,
   "metadata": {},
   "outputs": [
    {
     "data": {
      "text/plain": [
       "platform\n",
       "Android              1\n",
       "Macintosh            5\n",
       "Nintendo 3DS         1\n",
       "Nintendo DS          2\n",
       "PC                  24\n",
       "PlayStation 3       23\n",
       "PlayStation Vita     5\n",
       "Xbox 360            23\n",
       "iPad                 3\n",
       "iPhone              12\n",
       "dtype: int64"
      ]
     },
     "execution_count": 4,
     "metadata": {},
     "output_type": "execute_result"
    }
   ],
   "source": [
    "data.groupby('platform').size()"
   ]
  },
  {
   "cell_type": "code",
   "execution_count": 5,
   "metadata": {},
   "outputs": [
    {
     "data": {
      "text/plain": [
       "Shooter              14\n",
       "RPG                  14\n",
       "Adventure            12\n",
       "Sports               11\n",
       "Fighting             10\n",
       "Action               10\n",
       "Action, Adventure     6\n",
       "Strategy              6\n",
       "Action, RPG           4\n",
       "Platformer            3\n",
       "Puzzle                3\n",
       "Music                 1\n",
       "Racing, Action        1\n",
       "Racing                1\n",
       "Board                 1\n",
       "Strategy, RPG         1\n",
       "Name: genre, dtype: int64"
      ]
     },
     "execution_count": 5,
     "metadata": {},
     "output_type": "execute_result"
    }
   ],
   "source": [
    "data.genre.value_counts()"
   ]
  },
  {
   "cell_type": "code",
   "execution_count": 6,
   "metadata": {},
   "outputs": [
    {
     "data": {
      "text/html": [
       "<div>\n",
       "<style scoped>\n",
       "    .dataframe tbody tr th:only-of-type {\n",
       "        vertical-align: middle;\n",
       "    }\n",
       "\n",
       "    .dataframe tbody tr th {\n",
       "        vertical-align: top;\n",
       "    }\n",
       "\n",
       "    .dataframe thead th {\n",
       "        text-align: right;\n",
       "    }\n",
       "</style>\n",
       "<table border=\"1\" class=\"dataframe\">\n",
       "  <thead>\n",
       "    <tr style=\"text-align: right;\">\n",
       "      <th></th>\n",
       "      <th>min</th>\n",
       "      <th>max</th>\n",
       "    </tr>\n",
       "    <tr>\n",
       "      <th>genre</th>\n",
       "      <th></th>\n",
       "      <th></th>\n",
       "    </tr>\n",
       "  </thead>\n",
       "  <tbody>\n",
       "    <tr>\n",
       "      <th>Action</th>\n",
       "      <td>5.5</td>\n",
       "      <td>9.3</td>\n",
       "    </tr>\n",
       "    <tr>\n",
       "      <th>Action, Adventure</th>\n",
       "      <td>5.5</td>\n",
       "      <td>9.0</td>\n",
       "    </tr>\n",
       "    <tr>\n",
       "      <th>Action, RPG</th>\n",
       "      <td>6.5</td>\n",
       "      <td>9.0</td>\n",
       "    </tr>\n",
       "    <tr>\n",
       "      <th>Adventure</th>\n",
       "      <td>2.5</td>\n",
       "      <td>9.0</td>\n",
       "    </tr>\n",
       "    <tr>\n",
       "      <th>Board</th>\n",
       "      <td>9.0</td>\n",
       "      <td>9.0</td>\n",
       "    </tr>\n",
       "    <tr>\n",
       "      <th>Fighting</th>\n",
       "      <td>3.0</td>\n",
       "      <td>8.8</td>\n",
       "    </tr>\n",
       "    <tr>\n",
       "      <th>Music</th>\n",
       "      <td>8.5</td>\n",
       "      <td>8.5</td>\n",
       "    </tr>\n",
       "    <tr>\n",
       "      <th>Platformer</th>\n",
       "      <td>4.9</td>\n",
       "      <td>9.0</td>\n",
       "    </tr>\n",
       "    <tr>\n",
       "      <th>Puzzle</th>\n",
       "      <td>8.5</td>\n",
       "      <td>9.0</td>\n",
       "    </tr>\n",
       "    <tr>\n",
       "      <th>RPG</th>\n",
       "      <td>5.8</td>\n",
       "      <td>9.6</td>\n",
       "    </tr>\n",
       "    <tr>\n",
       "      <th>Racing</th>\n",
       "      <td>9.0</td>\n",
       "      <td>9.0</td>\n",
       "    </tr>\n",
       "    <tr>\n",
       "      <th>Racing, Action</th>\n",
       "      <td>7.1</td>\n",
       "      <td>7.1</td>\n",
       "    </tr>\n",
       "    <tr>\n",
       "      <th>Shooter</th>\n",
       "      <td>4.0</td>\n",
       "      <td>8.5</td>\n",
       "    </tr>\n",
       "    <tr>\n",
       "      <th>Sports</th>\n",
       "      <td>4.0</td>\n",
       "      <td>9.1</td>\n",
       "    </tr>\n",
       "    <tr>\n",
       "      <th>Strategy</th>\n",
       "      <td>7.0</td>\n",
       "      <td>9.0</td>\n",
       "    </tr>\n",
       "    <tr>\n",
       "      <th>Strategy, RPG</th>\n",
       "      <td>3.9</td>\n",
       "      <td>3.9</td>\n",
       "    </tr>\n",
       "  </tbody>\n",
       "</table>\n",
       "</div>"
      ],
      "text/plain": [
       "                   min  max\n",
       "genre                      \n",
       "Action             5.5  9.3\n",
       "Action, Adventure  5.5  9.0\n",
       "Action, RPG        6.5  9.0\n",
       "Adventure          2.5  9.0\n",
       "Board              9.0  9.0\n",
       "Fighting           3.0  8.8\n",
       "Music              8.5  8.5\n",
       "Platformer         4.9  9.0\n",
       "Puzzle             8.5  9.0\n",
       "RPG                5.8  9.6\n",
       "Racing             9.0  9.0\n",
       "Racing, Action     7.1  7.1\n",
       "Shooter            4.0  8.5\n",
       "Sports             4.0  9.1\n",
       "Strategy           7.0  9.0\n",
       "Strategy, RPG      3.9  3.9"
      ]
     },
     "execution_count": 6,
     "metadata": {},
     "output_type": "execute_result"
    }
   ],
   "source": [
    "data.groupby('genre').score.agg(['min', 'max'])"
   ]
  },
  {
   "cell_type": "code",
   "execution_count": 7,
   "metadata": {},
   "outputs": [
    {
     "data": {
      "text/plain": [
       "genre              editors_choice\n",
       "Action             N                 6.985714\n",
       "                   Y                 9.100000\n",
       "Action, Adventure  N                 7.100000\n",
       "                   Y                 9.000000\n",
       "Action, RPG        N                 6.850000\n",
       "                   Y                 9.000000\n",
       "Adventure          N                 6.214286\n",
       "                   Y                 8.940000\n",
       "Board              Y                 9.000000\n",
       "Fighting           N                 6.900000\n",
       "Music              Y                 8.500000\n",
       "Platformer         N                 4.900000\n",
       "                   Y                 9.000000\n",
       "Puzzle             N                 8.500000\n",
       "                   Y                 9.000000\n",
       "RPG                N                 7.287500\n",
       "                   Y                 9.316667\n",
       "Racing             Y                 9.000000\n",
       "Racing, Action     N                 7.100000\n",
       "Shooter            N                 6.892857\n",
       "Sports             N                 6.500000\n",
       "                   Y                 9.060000\n",
       "Strategy           N                 7.900000\n",
       "                   Y                 9.000000\n",
       "Strategy, RPG      N                 3.900000\n",
       "Name: score, dtype: float64"
      ]
     },
     "execution_count": 7,
     "metadata": {},
     "output_type": "execute_result"
    }
   ],
   "source": [
    "data.groupby(['genre', 'editors_choice']).score.mean()"
   ]
  },
  {
   "cell_type": "code",
   "execution_count": 8,
   "metadata": {},
   "outputs": [],
   "source": [
    "import matplotlib.pyplot as plt\n",
    "df = pd.DataFrame(data)\n"
   ]
  },
  {
   "cell_type": "code",
   "execution_count": 9,
   "metadata": {},
   "outputs": [
    {
     "data": {
      "text/plain": [
       "editors_choice\n",
       "N    67\n",
       "Y    32\n",
       "dtype: int64"
      ]
     },
     "execution_count": 9,
     "metadata": {},
     "output_type": "execute_result"
    }
   ],
   "source": [
    "edit_choice = df.groupby('editors_choice').size()\n",
    "edit_choice.head()"
   ]
  },
  {
   "cell_type": "code",
   "execution_count": 10,
   "metadata": {},
   "outputs": [
    {
     "data": {
      "text/plain": [
       "<matplotlib.axes._subplots.AxesSubplot at 0x1ca9ee6f198>"
      ]
     },
     "execution_count": 10,
     "metadata": {},
     "output_type": "execute_result"
    },
    {
     "data": {
      "image/png": "[encoded data removed]",
      "text/plain": [
       "<Figure size 432x288 with 1 Axes>"
      ]
     },
     "metadata": {},
     "output_type": "display_data"
    }
   ],
   "source": [
    "edit_choice.plot.pie(label='editors_choice',autopct = '%.2f%%')"
   ]
  },
  {
   "cell_type": "code",
   "execution_count": 13,
   "metadata": {},
   "outputs": [
    {
     "data": {
      "text/html": [
       "<div>\n",
       "<style scoped>\n",
       "    .dataframe tbody tr th:only-of-type {\n",
       "        vertical-align: middle;\n",
       "    }\n",
       "\n",
       "    .dataframe tbody tr th {\n",
       "        vertical-align: top;\n",
       "    }\n",
       "\n",
       "    .dataframe thead th {\n",
       "        text-align: right;\n",
       "    }\n",
       "</style>\n",
       "<table border=\"1\" class=\"dataframe\">\n",
       "  <thead>\n",
       "    <tr style=\"text-align: right;\">\n",
       "      <th></th>\n",
       "      <th>title</th>\n",
       "      <th>platform</th>\n",
       "      <th>score</th>\n",
       "      <th>genre</th>\n",
       "      <th>editors_choice</th>\n",
       "    </tr>\n",
       "  </thead>\n",
       "  <tbody>\n",
       "    <tr>\n",
       "      <th>0</th>\n",
       "      <td>LittleBigPlanet PS Vita</td>\n",
       "      <td>PlayStation Vita</td>\n",
       "      <td>9.0</td>\n",
       "      <td>Platformer</td>\n",
       "      <td>Y</td>\n",
       "    </tr>\n",
       "    <tr>\n",
       "      <th>1</th>\n",
       "      <td>LittleBigPlanet PS Vita -- Marvel Super Hero E...</td>\n",
       "      <td>PlayStation Vita</td>\n",
       "      <td>9.0</td>\n",
       "      <td>Platformer</td>\n",
       "      <td>Y</td>\n",
       "    </tr>\n",
       "    <tr>\n",
       "      <th>2</th>\n",
       "      <td>Splice: Tree of Life</td>\n",
       "      <td>iPad</td>\n",
       "      <td>8.5</td>\n",
       "      <td>Puzzle</td>\n",
       "      <td>N</td>\n",
       "    </tr>\n",
       "    <tr>\n",
       "      <th>3</th>\n",
       "      <td>NHL 13</td>\n",
       "      <td>Xbox 360</td>\n",
       "      <td>8.5</td>\n",
       "      <td>Sports</td>\n",
       "      <td>N</td>\n",
       "    </tr>\n",
       "    <tr>\n",
       "      <th>4</th>\n",
       "      <td>NHL 13</td>\n",
       "      <td>PlayStation 3</td>\n",
       "      <td>8.5</td>\n",
       "      <td>Sports</td>\n",
       "      <td>N</td>\n",
       "    </tr>\n",
       "  </tbody>\n",
       "</table>\n",
       "</div>"
      ],
      "text/plain": [
       "                                               title          platform  score  \\\n",
       "0                            LittleBigPlanet PS Vita  PlayStation Vita    9.0   \n",
       "1  LittleBigPlanet PS Vita -- Marvel Super Hero E...  PlayStation Vita    9.0   \n",
       "2                               Splice: Tree of Life              iPad    8.5   \n",
       "3                                             NHL 13          Xbox 360    8.5   \n",
       "4                                             NHL 13     PlayStation 3    8.5   \n",
       "\n",
       "        genre editors_choice  \n",
       "0  Platformer              Y  \n",
       "1  Platformer              Y  \n",
       "2      Puzzle              N  \n",
       "3      Sports              N  \n",
       "4      Sports              N  "
      ]
     },
     "execution_count": 13,
     "metadata": {},
     "output_type": "execute_result"
    }
   ],
   "source": [
    "df.head()"
   ]
  },
  {
   "cell_type": "code",
   "execution_count": 19,
   "metadata": {},
   "outputs": [
    {
     "data": {
      "text/plain": [
       "<matplotlib.axes._subplots.AxesSubplot at 0x1ca9f5f86a0>"
      ]
     },
     "execution_count": 19,
     "metadata": {},
     "output_type": "execute_result"
    },
    {
     "data": {
      "image/png": "[encoded data removed]",
      "text/plain": [
       "<Figure size 720x360 with 1 Axes>"
      ]
     },
     "metadata": {
      "needs_background": "light"
     },
     "output_type": "display_data"
    }
   ],
   "source": [
    "df['score'].head(10).sort_values(ascending=False).plot(kind='bar',figsize=(10,5))\n"
   ]
  },
  {
   "cell_type": "code",
   "execution_count": 24,
   "metadata": {},
   "outputs": [
    {
     "data": {
      "text/html": [
       "<div>\n",
       "<style scoped>\n",
       "    .dataframe tbody tr th:only-of-type {\n",
       "        vertical-align: middle;\n",
       "    }\n",
       "\n",
       "    .dataframe tbody tr th {\n",
       "        vertical-align: top;\n",
       "    }\n",
       "\n",
       "    .dataframe thead tr th {\n",
       "        text-align: left;\n",
       "    }\n",
       "\n",
       "    .dataframe thead tr:last-of-type th {\n",
       "        text-align: right;\n",
       "    }\n",
       "</style>\n",
       "<table border=\"1\" class=\"dataframe\">\n",
       "  <thead>\n",
       "    <tr>\n",
       "      <th></th>\n",
       "      <th colspan=\"2\" halign=\"left\">score</th>\n",
       "    </tr>\n",
       "    <tr>\n",
       "      <th></th>\n",
       "      <th>mean</th>\n",
       "      <th>size</th>\n",
       "    </tr>\n",
       "    <tr>\n",
       "      <th>genre</th>\n",
       "      <th></th>\n",
       "      <th></th>\n",
       "    </tr>\n",
       "  </thead>\n",
       "  <tbody>\n",
       "    <tr>\n",
       "      <th>Action</th>\n",
       "      <td>7.620000</td>\n",
       "      <td>10.0</td>\n",
       "    </tr>\n",
       "    <tr>\n",
       "      <th>Action, Adventure</th>\n",
       "      <td>8.050000</td>\n",
       "      <td>6.0</td>\n",
       "    </tr>\n",
       "    <tr>\n",
       "      <th>Action, RPG</th>\n",
       "      <td>7.925000</td>\n",
       "      <td>4.0</td>\n",
       "    </tr>\n",
       "    <tr>\n",
       "      <th>Adventure</th>\n",
       "      <td>7.350000</td>\n",
       "      <td>12.0</td>\n",
       "    </tr>\n",
       "    <tr>\n",
       "      <th>Board</th>\n",
       "      <td>9.000000</td>\n",
       "      <td>1.0</td>\n",
       "    </tr>\n",
       "    <tr>\n",
       "      <th>Fighting</th>\n",
       "      <td>6.900000</td>\n",
       "      <td>10.0</td>\n",
       "    </tr>\n",
       "    <tr>\n",
       "      <th>Music</th>\n",
       "      <td>8.500000</td>\n",
       "      <td>1.0</td>\n",
       "    </tr>\n",
       "    <tr>\n",
       "      <th>Platformer</th>\n",
       "      <td>7.633333</td>\n",
       "      <td>3.0</td>\n",
       "    </tr>\n",
       "    <tr>\n",
       "      <th>Puzzle</th>\n",
       "      <td>8.833333</td>\n",
       "      <td>3.0</td>\n",
       "    </tr>\n",
       "    <tr>\n",
       "      <th>RPG</th>\n",
       "      <td>8.157143</td>\n",
       "      <td>14.0</td>\n",
       "    </tr>\n",
       "    <tr>\n",
       "      <th>Racing</th>\n",
       "      <td>9.000000</td>\n",
       "      <td>1.0</td>\n",
       "    </tr>\n",
       "    <tr>\n",
       "      <th>Racing, Action</th>\n",
       "      <td>7.100000</td>\n",
       "      <td>1.0</td>\n",
       "    </tr>\n",
       "    <tr>\n",
       "      <th>Shooter</th>\n",
       "      <td>6.892857</td>\n",
       "      <td>14.0</td>\n",
       "    </tr>\n",
       "    <tr>\n",
       "      <th>Sports</th>\n",
       "      <td>7.663636</td>\n",
       "      <td>11.0</td>\n",
       "    </tr>\n",
       "    <tr>\n",
       "      <th>Strategy</th>\n",
       "      <td>8.083333</td>\n",
       "      <td>6.0</td>\n",
       "    </tr>\n",
       "    <tr>\n",
       "      <th>Strategy, RPG</th>\n",
       "      <td>3.900000</td>\n",
       "      <td>1.0</td>\n",
       "    </tr>\n",
       "  </tbody>\n",
       "</table>\n",
       "</div>"
      ],
      "text/plain": [
       "                      score      \n",
       "                       mean  size\n",
       "genre                            \n",
       "Action             7.620000  10.0\n",
       "Action, Adventure  8.050000   6.0\n",
       "Action, RPG        7.925000   4.0\n",
       "Adventure          7.350000  12.0\n",
       "Board              9.000000   1.0\n",
       "Fighting           6.900000  10.0\n",
       "Music              8.500000   1.0\n",
       "Platformer         7.633333   3.0\n",
       "Puzzle             8.833333   3.0\n",
       "RPG                8.157143  14.0\n",
       "Racing             9.000000   1.0\n",
       "Racing, Action     7.100000   1.0\n",
       "Shooter            6.892857  14.0\n",
       "Sports             7.663636  11.0\n",
       "Strategy           8.083333   6.0\n",
       "Strategy, RPG      3.900000   1.0"
      ]
     },
     "execution_count": 24,
     "metadata": {},
     "output_type": "execute_result"
    }
   ],
   "source": [
    "#games with low rating\n",
    "import numpy as np\n",
    "df_low = df.groupby('genre').agg([np.mean, np.size])\n",
    "df_low"
   ]
  },
  {
   "cell_type": "code",
   "execution_count": 32,
   "metadata": {
    "scrolled": true
   },
   "outputs": [
    {
     "data": {
      "text/plain": [
       "genre\n",
       "Action               False\n",
       "Action, Adventure    False\n",
       "Action, RPG          False\n",
       "Adventure            False\n",
       "Board                False\n",
       "Fighting             False\n",
       "Music                False\n",
       "Platformer           False\n",
       "Puzzle               False\n",
       "RPG                  False\n",
       "Racing               False\n",
       "Racing, Action       False\n",
       "Shooter              False\n",
       "Sports               False\n",
       "Strategy             False\n",
       "Strategy, RPG         True\n",
       "Name: mean, dtype: bool"
      ]
     },
     "execution_count": 32,
     "metadata": {},
     "output_type": "execute_result"
    }
   ],
   "source": [
    "#games with low rating\n",
    "low_rated_games_filter = df_low['score']['mean'] < 6\n",
    "low_rated_games_filter"
   ]
  },
  {
   "cell_type": "markdown",
   "metadata": {},
   "source": [
    "## from tthis we can say Strategy, RPG    is having Low Game Rating"
   ]
  },
  {
   "cell_type": "code",
   "execution_count": 44,
   "metadata": {
    "scrolled": true
   },
   "outputs": [
    {
     "data": {
      "text/plain": [
       "'{\"title\":{\"0\":\"LittleBigPlanet PS Vita\",\"1\":\"LittleBigPlanet PS Vita -- Marvel Super Hero Edition\",\"2\":\"Splice: Tree of Life\",\"3\":\"NHL 13\",\"4\":\"NHL 13\",\"5\":\"Total War Battles: Shogun\",\"6\":\"Double Dragon: Neon\",\"7\":\"Guild Wars 2\",\"8\":\"Double Dragon: Neon\",\"9\":\"Total War Battles: Shogun\",\"10\":\"Tekken Tag Tournament 2\",\"11\":\"Tekken Tag Tournament 2\",\"12\":\"Wild Blood\",\"13\":\"Mark of the Ninja\",\"14\":\"Mark of the Ninja\",\"15\":\"Home: A Unique Horror Adventure\",\"16\":\"Home: A Unique Horror Adventure\",\"17\":\"Avengers Initiative\",\"18\":\"Way of the Samurai 4\",\"19\":\"JoJo\\'s Bizarre Adventure HD\",\"20\":\"JoJo\\'s Bizarre Adventure HD\",\"21\":\"Mass Effect 3: Leviathan\",\"22\":\"Mass Effect 3: Leviathan\",\"23\":\"Mass Effect 3: Leviathan\",\"24\":\"Dark Souls (Prepare to Die Edition)\",\"25\":\"Symphony\",\"26\":\"Bastion\",\"27\":\"Tom Clancy\\'s Ghost Recon Phantoms\",\"28\":\"Thirty Flights of Loving\",\"29\":\"Legasista\",\"30\":\"The Walking Dead: The Game -- Episode 3: Long Road Ahead\",\"31\":\"World of Warcraft: Mists of Pandaria\",\"32\":\"Hell Yeah! Wrath of the Dead Rabbit\",\"33\":\"Pokemon White Version 2\",\"34\":\"War of the Roses\",\"35\":\"Pokemon Black Version 2\",\"36\":\"Drakerider\",\"37\":\"The Walking Dead: The Game -- Episode 3: Long Road Ahead\",\"38\":\"The Walking Dead: The Game -- Episode 3: Long Road Ahead\",\"39\":\"The Walking Dead: The Game -- Episode 3: Long Road Ahead\",\"40\":\"Rock Band Blitz\",\"41\":\"Counter-Strike: Global Offensive\",\"42\":\"Worms Revolution\",\"43\":\"Worms Revolution\",\"44\":\"Worms Revolution\",\"45\":\"Bad Piggies\",\"46\":\"Resident Evil 6\",\"47\":\"Resident Evil 6\",\"48\":\"Shad\\'O\",\"49\":\"Demon\\'s Score\",\"50\":\"NBA 2K13\",\"51\":\"Counter-Strike: Global Offensive\",\"52\":\"The World Ends with You: Solo Remix\",\"53\":\"Counter-Strike: Global Offensive\",\"54\":\"The World Ends with You: Solo Remix\",\"55\":\"Counter-Strike: Global Offensive\",\"56\":\"Madden NFL 13\",\"57\":\"Madden NFL 13\",\"58\":\"Madden NFL 13\",\"59\":\"Hoodwink\",\"60\":\"NBA 2K13\",\"61\":\"NBA 2K13\",\"62\":\"Lili: Child of Geos\",\"63\":\"Marvel vs. Capcom Origins\",\"64\":\"Marvel vs. Capcom Origins\",\"65\":\"Dead or Alive 5\",\"66\":\"Dead or Alive 5\",\"67\":\"Medal of Honor Warfighter\",\"68\":\"Professor Layton and the Miracle Mask\",\"69\":\"Hotline Miami\",\"70\":\"Edna & Harvey: Harvey\\'s New Eyes\",\"71\":\"Medal of Honor Warfighter\",\"72\":\"Medal of Honor Warfighter\",\"73\":\"Transformers: Fall of Cybertron\",\"74\":\"Transformers: Fall of Cybertron\",\"75\":\"Hero Academy\",\"76\":\"Hero Academy\",\"77\":\"Puzzle Craft\",\"78\":\"Realms Of Ancient War\",\"79\":\"Realms Of Ancient War\",\"80\":\"Anomaly: Warzone Earth\",\"81\":\"Darksiders II\",\"82\":\"Left 4 Dead 2: Cold Stream\",\"83\":\"Left 4 Dead 2: Cold Stream\",\"84\":\"Puzzle Craft\",\"85\":\"Left 4 Dead 2: Cold Stream\",\"86\":\"Horn\",\"87\":\"Forza Horizon\",\"88\":\"FIFA Soccer 13\",\"89\":\"Mugen Souls\",\"90\":\"Crazy Taxi\",\"91\":\"New Little King\\'s Story\",\"92\":\"Fable: The Journey\",\"93\":\"The Lord of the Rings Online: Riders of Rohan\",\"94\":\"Doom 3: BFG Edition\",\"95\":\"Rugby League Live 2\",\"96\":\"Rugby League Live 2\",\"97\":\"Doom 3: BFG Edition\",\"98\":\"Punch Quest\"},\"platform\":{\"0\":\"PlayStation Vita\",\"1\":\"PlayStation Vita\",\"2\":\"iPad\",\"3\":\"Xbox 360\",\"4\":\"PlayStation 3\",\"5\":\"Macintosh\",\"6\":\"Xbox 360\",\"7\":\"PC\",\"8\":\"PlayStation 3\",\"9\":\"PC\",\"10\":\"PlayStation 3\",\"11\":\"Xbox 360\",\"12\":\"iPhone\",\"13\":\"Xbox 360\",\"14\":\"PC\",\"15\":\"Macintosh\",\"16\":\"PC\",\"17\":\"iPhone\",\"18\":\"PlayStation 3\",\"19\":\"Xbox 360\",\"20\":\"PlayStation 3\",\"21\":\"Xbox 360\",\"22\":\"PlayStation 3\",\"23\":\"PC\",\"24\":\"PC\",\"25\":\"PC\",\"26\":\"iPad\",\"27\":\"PC\",\"28\":\"PC\",\"29\":\"PlayStation 3\",\"30\":\"Macintosh\",\"31\":\"PC\",\"32\":\"PlayStation 3\",\"33\":\"Nintendo DS\",\"34\":\"PC\",\"35\":\"Nintendo DS\",\"36\":\"iPhone\",\"37\":\"Xbox 360\",\"38\":\"PC\",\"39\":\"PlayStation 3\",\"40\":\"Xbox 360\",\"41\":\"Macintosh\",\"42\":\"PlayStation 3\",\"43\":\"PC\",\"44\":\"Xbox 360\",\"45\":\"iPhone\",\"46\":\"PlayStation 3\",\"47\":\"Xbox 360\",\"48\":\"PC\",\"49\":\"iPhone\",\"50\":\"Xbox 360\",\"51\":\"PC\",\"52\":\"iPad\",\"53\":\"PlayStation 3\",\"54\":\"iPhone\",\"55\":\"Xbox 360\",\"56\":\"PlayStation Vita\",\"57\":\"PlayStation 3\",\"58\":\"Xbox 360\",\"59\":\"PC\",\"60\":\"PlayStation 3\",\"61\":\"PC\",\"62\":\"iPhone\",\"63\":\"Xbox 360\",\"64\":\"PlayStation 3\",\"65\":\"PlayStation 3\",\"66\":\"Xbox 360\",\"67\":\"PC\",\"68\":\"Nintendo 3DS\",\"69\":\"PC\",\"70\":\"PC\",\"71\":\"PlayStation 3\",\"72\":\"Xbox 360\",\"73\":\"Xbox 360\",\"74\":\"PlayStation 3\",\"75\":\"PC\",\"76\":\"iPhone\",\"77\":\"iPhone\",\"78\":\"Xbox 360\",\"79\":\"PlayStation 3\",\"80\":\"PlayStation 3\",\"81\":\"PC\",\"82\":\"Macintosh\",\"83\":\"PC\",\"84\":\"Android\",\"85\":\"Xbox 360\",\"86\":\"iPhone\",\"87\":\"Xbox 360\",\"88\":\"PlayStation Vita\",\"89\":\"PlayStation 3\",\"90\":\"iPhone\",\"91\":\"PlayStation Vita\",\"92\":\"Xbox 360\",\"93\":\"PC\",\"94\":\"Xbox 360\",\"95\":\"Xbox 360\",\"96\":\"PlayStation 3\",\"97\":\"PlayStation 3\",\"98\":\"iPhone\"},\"score\":{\"0\":9.0,\"1\":9.0,\"2\":8.5,\"3\":8.5,\"4\":8.5,\"5\":7.0,\"6\":3.0,\"7\":9.0,\"8\":3.0,\"9\":7.0,\"10\":7.5,\"11\":7.5,\"12\":7.0,\"13\":9.0,\"14\":9.0,\"15\":6.5,\"16\":6.5,\"17\":8.0,\"18\":5.5,\"19\":7.0,\"20\":7.0,\"21\":7.5,\"22\":7.5,\"23\":7.5,\"24\":9.0,\"25\":7.0,\"26\":9.0,\"27\":7.5,\"28\":8.0,\"29\":6.5,\"30\":9.0,\"31\":8.7,\"32\":4.9,\"33\":9.6,\"34\":7.3,\"35\":9.6,\"36\":6.5,\"37\":9.0,\"38\":9.0,\"39\":9.0,\"40\":8.5,\"41\":8.0,\"42\":8.5,\"43\":8.5,\"44\":8.5,\"45\":9.2,\"46\":7.9,\"47\":7.9,\"48\":7.0,\"49\":6.9,\"50\":9.1,\"51\":8.0,\"52\":9.5,\"53\":8.0,\"54\":9.5,\"55\":8.0,\"56\":6.0,\"57\":9.0,\"58\":9.0,\"59\":2.5,\"60\":9.1,\"61\":9.1,\"62\":7.0,\"63\":8.2,\"64\":8.2,\"65\":8.8,\"66\":8.8,\"67\":4.0,\"68\":8.7,\"69\":8.8,\"70\":6.0,\"71\":4.0,\"72\":4.0,\"73\":8.5,\"74\":8.5,\"75\":9.0,\"76\":9.0,\"77\":9.0,\"78\":5.5,\"79\":5.5,\"80\":8.2,\"81\":7.5,\"82\":7.0,\"83\":7.0,\"84\":9.0,\"85\":7.0,\"86\":9.0,\"87\":9.0,\"88\":4.0,\"89\":3.9,\"90\":7.1,\"91\":5.8,\"92\":7.2,\"93\":8.3,\"94\":7.6,\"95\":6.0,\"96\":6.0,\"97\":7.6,\"98\":9.3},\"genre\":{\"0\":\"Platformer\",\"1\":\"Platformer\",\"2\":\"Puzzle\",\"3\":\"Sports\",\"4\":\"Sports\",\"5\":\"Strategy\",\"6\":\"Fighting\",\"7\":\"RPG\",\"8\":\"Fighting\",\"9\":\"Strategy\",\"10\":\"Fighting\",\"11\":\"Fighting\",\"12\":null,\"13\":\"Action, Adventure\",\"14\":\"Action, Adventure\",\"15\":\"Adventure\",\"16\":\"Adventure\",\"17\":\"Action\",\"18\":\"Action, Adventure\",\"19\":\"Fighting\",\"20\":\"Fighting\",\"21\":\"RPG\",\"22\":\"RPG\",\"23\":\"RPG\",\"24\":\"Action, RPG\",\"25\":\"Shooter\",\"26\":\"Action, RPG\",\"27\":\"Shooter\",\"28\":\"Adventure\",\"29\":\"Action, RPG\",\"30\":\"Adventure\",\"31\":\"RPG\",\"32\":\"Platformer\",\"33\":\"RPG\",\"34\":\"Action\",\"35\":\"RPG\",\"36\":\"RPG\",\"37\":\"Adventure\",\"38\":\"Adventure\",\"39\":\"Adventure\",\"40\":\"Music\",\"41\":\"Shooter\",\"42\":\"Strategy\",\"43\":\"Strategy\",\"44\":\"Strategy\",\"45\":\"Action\",\"46\":\"Action, Adventure\",\"47\":\"Action, Adventure\",\"48\":\"Adventure\",\"49\":\"Action\",\"50\":\"Sports\",\"51\":\"Shooter\",\"52\":\"RPG\",\"53\":\"Shooter\",\"54\":\"RPG\",\"55\":\"Shooter\",\"56\":\"Sports\",\"57\":\"Sports\",\"58\":\"Sports\",\"59\":\"Adventure\",\"60\":\"Sports\",\"61\":\"Sports\",\"62\":\"Adventure\",\"63\":\"Fighting\",\"64\":\"Fighting\",\"65\":\"Fighting\",\"66\":\"Fighting\",\"67\":\"Shooter\",\"68\":\"Adventure\",\"69\":\"Action\",\"70\":\"Adventure\",\"71\":\"Shooter\",\"72\":\"Shooter\",\"73\":\"Shooter\",\"74\":\"Shooter\",\"75\":\"Board\",\"76\":\"Strategy\",\"77\":\"Puzzle\",\"78\":\"Action\",\"79\":\"Action\",\"80\":\"Action\",\"81\":\"Action\",\"82\":\"Shooter\",\"83\":\"Shooter\",\"84\":\"Puzzle\",\"85\":\"Shooter\",\"86\":\"Action, Adventure\",\"87\":\"Racing\",\"88\":\"Sports\",\"89\":\"Strategy, RPG\",\"90\":\"Racing, Action\",\"91\":\"RPG\",\"92\":\"Action, RPG\",\"93\":\"RPG\",\"94\":\"RPG\",\"95\":\"Sports\",\"96\":\"Sports\",\"97\":\"RPG\",\"98\":\"Action\"},\"editors_choice\":{\"0\":\"Y\",\"1\":\"Y\",\"2\":\"N\",\"3\":\"N\",\"4\":\"N\",\"5\":\"N\",\"6\":\"N\",\"7\":\"Y\",\"8\":\"N\",\"9\":\"N\",\"10\":\"N\",\"11\":\"N\",\"12\":\"N\",\"13\":\"Y\",\"14\":\"Y\",\"15\":\"N\",\"16\":\"N\",\"17\":\"N\",\"18\":\"N\",\"19\":\"N\",\"20\":\"N\",\"21\":\"N\",\"22\":\"N\",\"23\":\"N\",\"24\":\"Y\",\"25\":\"N\",\"26\":\"Y\",\"27\":\"N\",\"28\":\"N\",\"29\":\"N\",\"30\":\"Y\",\"31\":\"Y\",\"32\":\"N\",\"33\":\"Y\",\"34\":\"N\",\"35\":\"Y\",\"36\":\"N\",\"37\":\"Y\",\"38\":\"Y\",\"39\":\"Y\",\"40\":\"Y\",\"41\":\"N\",\"42\":\"N\",\"43\":\"N\",\"44\":\"N\",\"45\":\"Y\",\"46\":\"N\",\"47\":\"N\",\"48\":\"N\",\"49\":\"N\",\"50\":\"Y\",\"51\":\"N\",\"52\":\"Y\",\"53\":\"N\",\"54\":\"Y\",\"55\":\"N\",\"56\":\"N\",\"57\":\"Y\",\"58\":\"Y\",\"59\":\"N\",\"60\":\"Y\",\"61\":\"Y\",\"62\":\"N\",\"63\":\"N\",\"64\":\"N\",\"65\":\"N\",\"66\":\"N\",\"67\":\"N\",\"68\":\"Y\",\"69\":\"Y\",\"70\":\"N\",\"71\":\"N\",\"72\":\"N\",\"73\":\"N\",\"74\":\"N\",\"75\":\"Y\",\"76\":\"Y\",\"77\":\"Y\",\"78\":\"N\",\"79\":\"N\",\"80\":\"N\",\"81\":\"N\",\"82\":\"N\",\"83\":\"N\",\"84\":\"Y\",\"85\":\"N\",\"86\":\"Y\",\"87\":\"Y\",\"88\":\"N\",\"89\":\"N\",\"90\":\"N\",\"91\":\"N\",\"92\":\"N\",\"93\":\"N\",\"94\":\"N\",\"95\":\"N\",\"96\":\"N\",\"97\":\"N\",\"98\":\"Y\"}}'"
      ]
     },
     "execution_count": 44,
     "metadata": {},
     "output_type": "execute_result"
    }
   ],
   "source": [
    "#api as dictionary\n",
    "df.to_json()"
   ]
  },
  {
   "cell_type": "code",
   "execution_count": null,
   "metadata": {},
   "outputs": [],
   "source": []
  }
 ],
 "metadata": {
  "kernelspec": {
   "display_name": "Python 3",
   "language": "python",
   "name": "python3"
  },
  "language_info": {
   "codemirror_mode": {
    "name": "ipython",
    "version": 3
   },
   "file_extension": ".py",
   "mimetype": "text/x-python",
   "name": "python",
   "nbconvert_exporter": "python",
   "pygments_lexer": "ipython3",
   "version": "3.7.3"
  }
 },
 "nbformat": 4,
 "nbformat_minor": 2
}
